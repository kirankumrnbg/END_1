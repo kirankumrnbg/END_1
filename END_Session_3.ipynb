{
  "nbformat": 4,
  "nbformat_minor": 0,
  "metadata": {
    "colab": {
      "name": "END_Session_3.ipynb",
      "provenance": [],
      "collapsed_sections": []
    },
    "kernelspec": {
      "name": "python3",
      "display_name": "Python 3"
    },
    "accelerator": "GPU"
  },
  "cells": [
    {
      "cell_type": "markdown",
      "metadata": {
        "id": "3ajsUH90ozSV"
      },
      "source": [
        "# Session_3 Assignment\n",
        "\n",
        "***1) Write a function using only list filter lambda that can tell whether a number is a Fibonacci number or not. You can use a pre-calculated list/dict to store fab numbers till 10000***"
      ]
    },
    {
      "cell_type": "code",
      "metadata": {
        "id": "4A-Q5om4oqBj",
        "outputId": "22190a26-685d-4234-80fe-87a8612717f5",
        "colab": {
          "base_uri": "https://localhost:8080/"
        }
      },
      "source": [
        "# Creating Fibonacci numbers till 10000\n",
        "fib_list = [0, 1]\n",
        "\n",
        "for i in range(100):\n",
        "  if (fib_list[-1]+ fib_list[-2])<10000:\n",
        "    fib_list.append(fib_list[-1] + fib_list[-2])\n",
        "  else:\n",
        "    break\n",
        "print(\"Fibonacci Numbers till 10000 : \",fib_list)\n",
        "\n",
        "def fib_checker(t:int):\n",
        "  y = list(filter(lambda x: x in fib_list, (t,)))\n",
        "  return len(y)>0"
      ],
      "execution_count": 218,
      "outputs": [
        {
          "output_type": "stream",
          "text": [
            "Fibonacci Numbers till 10000 :  [0, 1, 1, 2, 3, 5, 8, 13, 21, 34, 55, 89, 144, 233, 377, 610, 987, 1597, 2584, 4181, 6765]\n"
          ],
          "name": "stdout"
        }
      ]
    },
    {
      "cell_type": "code",
      "metadata": {
        "id": "Nm_7sxvDbxGv",
        "outputId": "037f493d-33d5-4b41-fbe4-648622d55ffb",
        "colab": {
          "base_uri": "https://localhost:8080/"
        }
      },
      "source": [
        "# Test cases\n",
        "print(f\" Is 4 a fibonacci number : {fib_checker(4)}\")\n",
        "print(f\" Is 4181 a fibonacci number : {fib_checker(4181)}\")"
      ],
      "execution_count": 219,
      "outputs": [
        {
          "output_type": "stream",
          "text": [
            " Is 4 a fibonacci number : False\n",
            " Is 4181 a fibonacci number : True\n"
          ],
          "name": "stdout"
        }
      ]
    },
    {
      "cell_type": "markdown",
      "metadata": {
        "id": "z8Z8vMtk0TLT"
      },
      "source": [
        "***2) Using list comprehension (and zip/lambda/etc if required) write five different expressions that***\n",
        "* Add 2 iterables a and b such that a is even and b is odd.\n",
        "* Strips every vowel from a string provided (tsai>>t s)\n",
        "* Acts like a ReLU function for a 1D array\n",
        "* Acts like a sigmoid function for a 1D array\n",
        "* Takes a small character string and shifts all characters by 5 (handleboundary conditions) tsai>>yxfn"
      ]
    },
    {
      "cell_type": "code",
      "metadata": {
        "id": "OyFEj6rMyiSC"
      },
      "source": [
        "import math\n",
        "# Add 2 iterables a and b such that a is even and b is odd\n",
        "def odd_even_adder(list1 :list, list2:list):\n",
        "  return [x+y for x,y in zip(list1, list2) if x%2 ==0 and y%2 != 0]\n",
        "\n",
        "# Strips every vowel from a string provided (tsai>>t s)\n",
        "def strip_vowel(s : str):\n",
        "  vowels = ['a', 'e', 'i','o','u']\n",
        "  return ''.join([x for x in s if x.lower() not in vowels])\n",
        "\n",
        "# Acts like a ReLU function for a 1D array\n",
        "def relu(l :list):\n",
        "  #return [x for u in l if u>0 x=1 else x=0]\n",
        "  return [(lambda x: 1 if x>0 else 0)(x) for x in l]\n",
        "\n",
        "# Acts like a sigmoid function for a 1D array\n",
        "def sigmoid(l:list):\n",
        "  return [(lambda x : (1/(1+math.exp(-x))))(x) for x in l]\n",
        "\n",
        "# Takes a small character string and shifts all characters by 5 (handleboundary conditions) tsai>>yxfn\n",
        "def str_shift(s:str):\n",
        "  return \"\".join([chr(ord(x)+5) for x in s])"
      ],
      "execution_count": 87,
      "outputs": []
    },
    {
      "cell_type": "code",
      "metadata": {
        "id": "hNKm49nf2mnH",
        "outputId": "58c7caff-bf42-40d7-d7d1-b532f1839ad9",
        "colab": {
          "base_uri": "https://localhost:8080/"
        }
      },
      "source": [
        "# Test Cases\n",
        "print(\"Adding odd and even numbers from 2 lists : \", odd_even_adder([2,1,4,3,5], [1,2,3,4,5]))\n",
        "print(\"Stripping vowels from string : \",strip_vowel('aeirqw'))\n",
        "print(\"Relu on list: \",relu([1,-2,3,0]))\n",
        "print(\"Sigmoid on list: \", sigmoid([15, 1, 0.5, 0.7, -1, -10]))\n",
        "print(\"Shifting characters by 5 : \",str_shift('tsai'))"
      ],
      "execution_count": 93,
      "outputs": [
        {
          "output_type": "stream",
          "text": [
            "Adding odd and even numbers from 2 lists :  [3, 7]\n",
            "Stripping vowels from string :  rqw\n",
            "Relu on list:  [1, 0, 1, 0]\n",
            "Sigmoid on list:  [0.999999694097773, 0.7310585786300049, 0.6224593312018546, 0.6681877721681662, 0.2689414213699951, 4.5397868702434395e-05]\n",
            "Shifting characters by 5 :  yxfn\n"
          ],
          "name": "stdout"
        }
      ]
    },
    {
      "cell_type": "markdown",
      "metadata": {
        "id": "sEiPmSXlBgjM"
      },
      "source": [
        "***3) A list comprehension expression that takes a ~200 word paragraph (write your own paragraph to check), and checks whether it has any of the swear words mentioned in https://github.com/RobertJGabriel/Google-profanity-words/blob/master/list.txt***"
      ]
    },
    {
      "cell_type": "code",
      "metadata": {
        "id": "5X3pcvVhBfi2",
        "outputId": "4d0bdfac-3a04-4ff8-9f91-40fe95826925",
        "colab": {
          "base_uri": "https://localhost:8080/"
        }
      },
      "source": [
        "import requests\n",
        "from bs4 import BeautifulSoup\n",
        "a = requests.get('https://github.com/RobertJGabriel/Google-profanity-words/blob/master/list.txt')\n",
        "\n",
        "# Using BS to get swear words\n",
        "s = BeautifulSoup(a.content)\n",
        "b_words = s.find_all('td', attrs = {'class':\"blob-code blob-code-inner js-file-line\"})\n",
        "b_list = [x.get_text() for x in b_words]\n",
        "print(b_list)"
      ],
      "execution_count": 124,
      "outputs": [
        {
          "output_type": "stream",
          "text": [
            "['4r5e', '5h1t', '5hit', 'a55', 'anal', 'anus', 'ar5e', 'arrse', 'arse', 'ass', 'ass-fucker', 'asses', 'assfucker', 'assfukka', 'asshole', 'assholes', 'asswhole', 'a_s_s', 'b!tch', 'b00bs', 'b17ch', 'b1tch', 'ballbag', 'balls', 'ballsack', 'bastard', 'beastial', 'beastiality', 'bellend', 'bestial', 'bestiality', 'bi+ch', 'biatch', 'bitch', 'bitcher', 'bitchers', 'bitches', 'bitchin', 'bitching', 'bloody', 'blow job', 'blowjob', 'blowjobs', 'boiolas', 'bollock', 'bollok', 'boner', 'boob', 'boobs', 'booobs', 'boooobs', 'booooobs', 'booooooobs', 'breasts', 'buceta', 'bugger', 'bum', 'bunny fucker', 'butt', 'butthole', 'buttmunch', 'buttplug', 'c0ck', 'c0cksucker', 'carpet muncher', 'cawk', 'chink', 'cipa', 'cl1t', 'clit', 'clitoris', 'clits', 'cnut', 'cock', 'cock-sucker', 'cockface', 'cockhead', 'cockmunch', 'cockmuncher', 'cocks', 'cocksuck ', 'cocksucked ', 'cocksucker', 'cocksucking', 'cocksucks ', 'cocksuka', 'cocksukka', 'cok', 'cokmuncher', 'coksucka', 'coon', 'cox', 'crap', 'cum', 'cummer', 'cumming', 'cums', 'cumshot', 'cunilingus', 'cunillingus', 'cunnilingus', 'cunt', 'cuntlick ', 'cuntlicker ', 'cuntlicking ', 'cunts', 'cyalis', 'cyberfuc', 'cyberfuck ', 'cyberfucked ', 'cyberfucker', 'cyberfuckers', 'cyberfucking ', 'd1ck', 'damn', 'dick', 'dickhead', 'dildo', 'dildos', 'dink', 'dinks', 'dirsa', 'dlck', 'dog-fucker', 'doggin', 'dogging', 'donkeyribber', 'doosh', 'duche', 'dyke', 'ejaculate', 'ejaculated', 'ejaculates ', 'ejaculating ', 'ejaculatings', 'ejaculation', 'ejakulate', 'f u c k', 'f u c k e r', 'f4nny', 'fag', 'fagging', 'faggitt', 'faggot', 'faggs', 'fagot', 'fagots', 'fags', 'fanny', 'fannyflaps', 'fannyfucker', 'fanyy', 'fatass', 'fcuk', 'fcuker', 'fcuking', 'feck', 'fecker', 'felching', 'fellate', 'fellatio', 'fingerfuck ', 'fingerfucked ', 'fingerfucker ', 'fingerfuckers', 'fingerfucking ', 'fingerfucks ', 'fistfuck', 'fistfucked ', 'fistfucker ', 'fistfuckers ', 'fistfucking ', 'fistfuckings ', 'fistfucks ', 'flange', 'fook', 'fooker', 'fuck', 'fucka', 'fucked', 'fucker', 'fuckers', 'fuckhead', 'fuckheads', 'fuckin', 'fucking', 'fuckings', 'fuckingshitmotherfucker', 'fuckme ', 'fucks', 'fuckwhit', 'fuckwit', 'fudge packer', 'fudgepacker', 'fuk', 'fuker', 'fukker', 'fukkin', 'fuks', 'fukwhit', 'fukwit', 'fux', 'fux0r', 'f_u_c_k', 'gangbang', 'gangbanged ', 'gangbangs ', 'gaylord', 'gaysex', 'goatse', 'God', 'god-dam', 'god-damned', 'goddamn', 'goddamned', 'hardcoresex ', 'hell', 'heshe', 'hoar', 'hoare', 'hoer', 'homo', 'hore', 'horniest', 'horny', 'hotsex', 'jack-off ', 'jackoff', 'jap', 'jerk-off ', 'jism', 'jiz ', 'jizm ', 'jizz', 'kawk', 'knob', 'knobead', 'knobed', 'knobend', 'knobhead', 'knobjocky', 'knobjokey', 'kock', 'kondum', 'kondums', 'kum', 'kummer', 'kumming', 'kums', 'kunilingus', 'l3i+ch', 'l3itch', 'labia', 'lmfao', 'lust', 'lusting', 'm0f0', 'm0fo', 'm45terbate', 'ma5terb8', 'ma5terbate', 'masochist', 'master-bate', 'masterb8', 'masterbat*', 'masterbat3', 'masterbate', 'masterbation', 'masterbations', 'masturbate', 'mo-fo', 'mof0', 'mofo', 'mothafuck', 'mothafucka', 'mothafuckas', 'mothafuckaz', 'mothafucked ', 'mothafucker', 'mothafuckers', 'mothafuckin', 'mothafucking ', 'mothafuckings', 'mothafucks', 'mother fucker', 'motherfuck', 'motherfucked', 'motherfucker', 'motherfuckers', 'motherfuckin', 'motherfucking', 'motherfuckings', 'motherfuckka', 'motherfucks', 'muff', 'mutha', 'muthafecker', 'muthafuckker', 'muther', 'mutherfucker', 'n1gga', 'n1gger', 'nazi', 'nigg3r', 'nigg4h', 'nigga', 'niggah', 'niggas', 'niggaz', 'nigger', 'niggers ', 'nob', 'nob jokey', 'nobhead', 'nobjocky', 'nobjokey', 'numbnuts', 'nutsack', 'orgasim ', 'orgasims ', 'orgasm', 'orgasms ', 'p0rn', 'pawn', 'pecker', 'penis', 'penisfucker', 'phonesex', 'phuck', 'phuk', 'phuked', 'phuking', 'phukked', 'phukking', 'phuks', 'phuq', 'pigfucker', 'pimpis', 'piss', 'pissed', 'pisser', 'pissers', 'pisses ', 'pissflaps', 'pissin ', 'pissing', 'pissoff ', 'poop', 'porn', 'porno', 'pornography', 'pornos', 'prick', 'pricks ', 'pron', 'pube', 'pusse', 'pussi', 'pussies', 'pussy', 'pussys ', 'rectum', 'retard', 'rimjaw', 'rimming', 's hit', 's.o.b.', 'sadist', 'schlong', 'screwing', 'scroat', 'scrote', 'scrotum', 'semen', 'sex', 'sh!+', 'sh!t', 'sh1t', 'shag', 'shagger', 'shaggin', 'shagging', 'shemale', 'shi+', 'shit', 'shitdick', 'shite', 'shited', 'shitey', 'shitfuck', 'shitfull', 'shithead', 'shiting', 'shitings', 'shits', 'shitted', 'shitter', 'shitters ', 'shitting', 'shittings', 'shitty ', 'skank', 'slut', 'sluts', 'smegma', 'smut', 'snatch', 'son-of-a-bitch', 'spac', 'spunk', 's_h_i_t', 't1tt1e5', 't1tties', 'teets', 'teez', 'testical', 'testicle', 'tit', 'titfuck', 'tits', 'titt', 'tittie5', 'tittiefucker', 'titties', 'tittyfuck', 'tittywank', 'titwank', 'tosser', 'turd', 'tw4t', 'twat', 'twathead', 'twatty', 'twunt', 'twunter', 'v14gra', 'v1gra', 'vagina', 'viagra', 'vulva', 'w00se', 'wang', 'wank', 'wanker', 'wanky', 'whoar', 'whore', 'willies', 'willy', 'xrated', 'xxx']\n"
          ],
          "name": "stdout"
        }
      ]
    },
    {
      "cell_type": "code",
      "metadata": {
        "id": "HFwOhYUfCZ9e"
      },
      "source": [
        "# Checks whether it has any of the swear words mentioned in https://github.com/RobertJGabriel/Google-profanity-words/blob/master/list.txt\n",
        "def swear_checker(s:str):\n",
        "  my_words = s.strip().split(\" \")\n",
        "  return len([x for x in my_words if x in b_list])> 0"
      ],
      "execution_count": 131,
      "outputs": []
    },
    {
      "cell_type": "code",
      "metadata": {
        "id": "KYRxbJ2JFX5z",
        "outputId": "84cf44e3-5dbe-4f95-882d-c52fad373e7b",
        "colab": {
          "base_uri": "https://localhost:8080/"
        }
      },
      "source": [
        "# Test case\n",
        "my_para = \" There was a time when storybooks were the only means of entertainment for children. A decade or two ago, kids spent their time reading stories and role playing their favourite characters from the stories. However, times have changed now – in the age of the internet, kids spend most of their time playing games on smartphones or watching cartoons or videos on YouTube\"\n",
        "print(swear_checker(my_para))\n",
        "my_para2 = \" There ass a time when storybooks were the only means of entertainment for children. A decade or two ago, kids spent their time reading stories and role playing their favourite characters from the stories. However, times have changed now – in the age of the internet, kids spend most of their time playing games on smartphones or watching cartoons or videos on YouTube\"\n",
        "print(swear_checker(my_para2))"
      ],
      "execution_count": 143,
      "outputs": [
        {
          "output_type": "stream",
          "text": [
            "False\n",
            "True\n"
          ],
          "name": "stdout"
        }
      ]
    },
    {
      "cell_type": "markdown",
      "metadata": {
        "id": "YhID1GCDLFCC"
      },
      "source": [
        "***4) Using reduce functions***\n",
        "* Add only even numbers in a list\n",
        "* Find the biggest character in a string (printable ascii characters)\n",
        "* Adds every 3rd number in a list"
      ]
    },
    {
      "cell_type": "code",
      "metadata": {
        "id": "nxG_VXtuK2Ps"
      },
      "source": [
        "from functools import reduce\n",
        "\n",
        "# Add only even numbers in a list\n",
        "def add_even(l:list):\n",
        "  return reduce(lambda x,y: x+y, [x for x in l if x%2==0])\n",
        "\n",
        "# Find the biggest character in a string (printable ascii characters)\n",
        "def big_char(s:str):\n",
        "  return reduce(lambda x,y: x if x<y else y, [x for x in s])\n",
        "\n",
        "# Adds every 3rd number in a list\n",
        "def add_thirdnum(l:list):\n",
        "  return reduce(lambda x,y: x+y, [l[x-1] for x in range(1,len(l)+1) if x%3 == 0] )\n"
      ],
      "execution_count": 197,
      "outputs": []
    },
    {
      "cell_type": "code",
      "metadata": {
        "id": "LAj3-Wi1GxFd",
        "outputId": "b49d24d3-ca16-4189-fd7c-9e6f90486154",
        "colab": {
          "base_uri": "https://localhost:8080/"
        }
      },
      "source": [
        "# Test Cases\n",
        "print(\"Adding only even numbers in list: \",add_even([2,3,4,6,8,9]))\n",
        "print(\"Find the biggest character in a string : \",big_char(\"igZar\"))\n",
        "print(\"Adds every 3rd number in a list\",add_thirdnum([1,2,3,4,5,6,7,8,9]))"
      ],
      "execution_count": 220,
      "outputs": [
        {
          "output_type": "stream",
          "text": [
            "Adding only even numbers in list:  20\n",
            "Find the biggest character in a string :  Z\n",
            "Adds every 3rd number in a list 18\n"
          ],
          "name": "stdout"
        }
      ]
    },
    {
      "cell_type": "markdown",
      "metadata": {
        "id": "lscESCP6Vpvw"
      },
      "source": [
        "***5) Using randint, random.choice and list comprehensions, write an expression that generates 15 random KADDAADDDD number plates, where KA is fixed, D stands for a digit, and A stands for Capital alphabets. 10<<DD<<99 & 1000<<DDDD<<9999***"
      ]
    },
    {
      "cell_type": "code",
      "metadata": {
        "id": "BZ4MvWugOD1n"
      },
      "source": [
        "import random\n",
        "#Function to complete the number plate\n",
        "def ka_num_plate(n:int):\n",
        "  letters = [chr(ord('A')+i) for i in range(26)]\n",
        "  return ['KA'+ str(random.randint(10,99)) + random.choice(letters)+ random.choice(letters) + str(random.randint(1000,9999)) for i in range(n)]"
      ],
      "execution_count": 213,
      "outputs": []
    },
    {
      "cell_type": "code",
      "metadata": {
        "id": "2qc9E_0rXXfq",
        "outputId": "35e3fef3-acfe-4f71-c44a-b5e145715ad4",
        "colab": {
          "base_uri": "https://localhost:8080/"
        }
      },
      "source": [
        "# Test Case\n",
        "print(\"The 15 random KA number plates are as below :\\n\", ka_num_plate(15))"
      ],
      "execution_count": 214,
      "outputs": [
        {
          "output_type": "stream",
          "text": [
            "The 15 random KA number plates are as below :\n",
            " ['KA27UZ7788', 'KA97JA8560', 'KA16EI8265', 'KA68CR2040', 'KA46FX6000', 'KA42EH1943', 'KA74YB8772', 'KA45UQ2637', 'KA90YN1493', 'KA95PK9921', 'KA22TF8673', 'KA24ZC7046', 'KA82ZD6801', 'KA10PU4924', 'KA95ME5976']\n"
          ],
          "name": "stdout"
        }
      ]
    },
    {
      "cell_type": "markdown",
      "metadata": {
        "id": "sG0qzcGXaDZN"
      },
      "source": [
        "***6) Write the above again from scratch where KA can be changed to DL, and 1000/9999 ranges can be provided***"
      ]
    },
    {
      "cell_type": "code",
      "metadata": {
        "id": "Py4KyNDmaO5Y"
      },
      "source": [
        "#Function to complete the number plate\n",
        "def dl_num_plate(st_code:str, n:int, *args):\n",
        "  letters = [chr(ord('A')+i) for i in range(26)]\n",
        "  return [st_code.upper()+ str(random.randint(10,99)) + random.choice(letters)+ random.choice(letters) + str(random.randint(args[0], args[1])) for i in range(n)]"
      ],
      "execution_count": 234,
      "outputs": []
    },
    {
      "cell_type": "code",
      "metadata": {
        "id": "VAsMc6DlacHB",
        "outputId": "6195384d-1583-4cf2-8306-78489dbb8a30",
        "colab": {
          "base_uri": "https://localhost:8080/"
        }
      },
      "source": [
        "# Test Case\n",
        "print(\"The 15 random DL number plates are as below :\\n\", dl_num_plate('dl', 15, 1500, 2899))"
      ],
      "execution_count": 235,
      "outputs": [
        {
          "output_type": "stream",
          "text": [
            "The 15 random DL number plates are as below :\n",
            " ['DL37BH2178', 'DL18IY1700', 'DL57LH2797', 'DL61QG2197', 'DL11EO2138', 'DL77BM1644', 'DL22TS2561', 'DL30EF2713', 'DL90DH2414', 'DL31QS2410', 'DL25RF1582', 'DL97BB2644', 'DL91NL2404', 'DL79TM2531', 'DL42WL2080']\n"
          ],
          "name": "stdout"
        }
      ]
    },
    {
      "cell_type": "code",
      "metadata": {
        "id": "c8X3DikMaimm"
      },
      "source": [
        ""
      ],
      "execution_count": null,
      "outputs": []
    }
  ]
}