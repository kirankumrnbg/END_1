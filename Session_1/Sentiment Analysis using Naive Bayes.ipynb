{
 "cells": [
  {
   "cell_type": "markdown",
   "metadata": {
    "id": "I4tgyjYGU5mh"
   },
   "source": [
    "# Sentiment Analysis using Naive Bayes\n",
    "\n",
    "In this assignment, we will attempt to label tweets with sentiments (positive, neutral and negative) using Naive Bayes classifier. Naive Bayes is a very basic approach to this problem, but gives surprisingly good accuracy sometimes.\n",
    "\n",
    "**Fill in the Blanks**"
   ]
  },
  {
   "cell_type": "markdown",
   "metadata": {
    "id": "Af8UfnQOVXGZ"
   },
   "source": [
    "## Importing required libraries"
   ]
  },
  {
   "cell_type": "code",
   "execution_count": 1,
   "metadata": {
    "id": "91xo5PKAUoux"
   },
   "outputs": [],
   "source": [
    "import pandas as pd\n",
    "import re\n",
    "from sklearn.naive_bayes import MultinomialNB\n",
    "from sklearn.model_selection import train_test_split\n",
    "from sklearn.metrics import classification_report\n",
    "from sklearn.model_selection import GridSearchCV\n",
    "from sklearn.pipeline import Pipeline\n",
    "from sklearn.feature_extraction.text import CountVectorizer, TfidfTransformer"
   ]
  },
  {
   "cell_type": "markdown",
   "metadata": {
    "id": "uEeXoKyvVqdQ"
   },
   "source": [
    "## Reading dataset"
   ]
  },
  {
   "cell_type": "code",
   "execution_count": 29,
   "metadata": {
    "id": "menn3WewVpe9"
   },
   "outputs": [
    {
     "name": "stdout",
     "output_type": "stream",
     "text": [
      "   Unnamed: 0                                             tweets  labels\n",
      "0           0  Obama has called the GOP budget social Darwini...       1\n",
      "1           1  In his teen years, Obama has been known to use...       0\n",
      "2           2  IPA Congratulates President Barack Obama for L...       0\n",
      "3           3  RT @Professor_Why: #WhatsRomneyHiding - his co...       0\n",
      "4           4  RT @wardollarshome: Obama has approved more ta...       1\n"
     ]
    },
    {
     "data": {
      "text/html": [
       "<div>\n",
       "<style scoped>\n",
       "    .dataframe tbody tr th:only-of-type {\n",
       "        vertical-align: middle;\n",
       "    }\n",
       "\n",
       "    .dataframe tbody tr th {\n",
       "        vertical-align: top;\n",
       "    }\n",
       "\n",
       "    .dataframe thead th {\n",
       "        text-align: right;\n",
       "    }\n",
       "</style>\n",
       "<table border=\"1\" class=\"dataframe\">\n",
       "  <thead>\n",
       "    <tr style=\"text-align: right;\">\n",
       "      <th></th>\n",
       "      <th>tweets</th>\n",
       "      <th>labels</th>\n",
       "    </tr>\n",
       "  </thead>\n",
       "  <tbody>\n",
       "    <tr>\n",
       "      <th>0</th>\n",
       "      <td>Obama has called the GOP budget social Darwini...</td>\n",
       "      <td>1</td>\n",
       "    </tr>\n",
       "    <tr>\n",
       "      <th>1</th>\n",
       "      <td>In his teen years, Obama has been known to use...</td>\n",
       "      <td>0</td>\n",
       "    </tr>\n",
       "    <tr>\n",
       "      <th>2</th>\n",
       "      <td>IPA Congratulates President Barack Obama for L...</td>\n",
       "      <td>0</td>\n",
       "    </tr>\n",
       "    <tr>\n",
       "      <th>3</th>\n",
       "      <td>RT @Professor_Why: #WhatsRomneyHiding - his co...</td>\n",
       "      <td>0</td>\n",
       "    </tr>\n",
       "    <tr>\n",
       "      <th>4</th>\n",
       "      <td>RT @wardollarshome: Obama has approved more ta...</td>\n",
       "      <td>1</td>\n",
       "    </tr>\n",
       "  </tbody>\n",
       "</table>\n",
       "</div>"
      ],
      "text/plain": [
       "                                              tweets  labels\n",
       "0  Obama has called the GOP budget social Darwini...       1\n",
       "1  In his teen years, Obama has been known to use...       0\n",
       "2  IPA Congratulates President Barack Obama for L...       0\n",
       "3  RT @Professor_Why: #WhatsRomneyHiding - his co...       0\n",
       "4  RT @wardollarshome: Obama has approved more ta...       1"
      ]
     },
     "execution_count": 29,
     "metadata": {},
     "output_type": "execute_result"
    }
   ],
   "source": [
    "data=pd.read_csv('tweets.csv')\n",
    "print(data.head())\n",
    "data.drop(data.columns[0],axis=1,inplace=True)\n",
    "data.head()"
   ]
  },
  {
   "cell_type": "code",
   "execution_count": 31,
   "metadata": {},
   "outputs": [
    {
     "data": {
      "text/plain": [
       "0    947\n",
       "1    352\n",
       "2     81\n",
       "Name: labels, dtype: int64"
      ]
     },
     "execution_count": 31,
     "metadata": {},
     "output_type": "execute_result"
    }
   ],
   "source": [
    "data.labels.value_counts()"
   ]
  },
  {
   "cell_type": "markdown",
   "metadata": {
    "id": "1bUNORaDVwrN"
   },
   "source": [
    "## Text processing for the tweets"
   ]
  },
  {
   "cell_type": "code",
   "execution_count": 3,
   "metadata": {
    "id": "gCtQLFwcHauQ"
   },
   "outputs": [
    {
     "name": "stdout",
     "output_type": "stream",
     "text": [
      "[nltk_data] Downloading package stopwords to\n",
      "[nltk_data]     C:\\Users\\Kiran\\AppData\\Roaming\\nltk_data...\n",
      "[nltk_data]   Package stopwords is already up-to-date!\n",
      "[nltk_data] Downloading package punkt to\n",
      "[nltk_data]     C:\\Users\\Kiran\\AppData\\Roaming\\nltk_data...\n",
      "[nltk_data]   Package punkt is already up-to-date!\n"
     ]
    },
    {
     "data": {
      "text/plain": [
       "True"
      ]
     },
     "execution_count": 3,
     "metadata": {},
     "output_type": "execute_result"
    }
   ],
   "source": [
    "import nltk \n",
    "nltk.download('stopwords')\n",
    "nltk.download('punkt')"
   ]
  },
  {
   "cell_type": "code",
   "execution_count": 12,
   "metadata": {
    "id": "qbVn9swJVuLA"
   },
   "outputs": [],
   "source": [
    "from nltk.tokenize import word_tokenize\n",
    "from string import punctuation \n",
    "from nltk.corpus import stopwords \n",
    "\n",
    "stopwords = set(stopwords.words('english') + list(punctuation) + ['AT_USER','URL'])\n",
    "    \n",
    "def processTweet(tweet):\n",
    "    # tweet is the text we will pass for preprocessing \n",
    "    # convert passed tweet to lower case \n",
    "    if type(tweet) == str:\n",
    "        tweet = tweet.lower()\n",
    "    else:\n",
    "        tweet = str(tweet)\n",
    "            \n",
    "        \n",
    "    tweet = re.sub('((www\\.[^\\s]+)|(https?://[^\\s]+))', 'URL', tweet) # remove URLs\n",
    "    tweet = re.sub('@[^\\s]+', 'AT_USER', tweet) # remove usernames\n",
    "    tweet = re.sub(r'#([^\\s]+)', r'\\1', tweet) # remove the # in #hashtag\n",
    "    \n",
    "    # use work_tokenize imported above to tokenize the tweet\n",
    "    tweet = nltk.word_tokenize(tweet)\n",
    "    return [word for word in tweet if word not in stopwords]"
   ]
  },
  {
   "cell_type": "markdown",
   "metadata": {
    "id": "6gk8veQrWK7J"
   },
   "source": [
    "## Process all tweets"
   ]
  },
  {
   "cell_type": "code",
   "execution_count": 13,
   "metadata": {
    "id": "44jBcZrTV1QQ"
   },
   "outputs": [],
   "source": [
    "processed=[]\n",
    "\n",
    "for tweet in data['tweets']:\n",
    "    \n",
    "    # process all tweets using processTweet function above - store in variable 'cleaned' \n",
    "    cleaned=processTweet(tweet)\n",
    "    processed.append(' '.join(cleaned))"
   ]
  },
  {
   "cell_type": "code",
   "execution_count": 14,
   "metadata": {
    "id": "FQ_2PZV-WO_E"
   },
   "outputs": [],
   "source": [
    "data['processed'] = processed"
   ]
  },
  {
   "cell_type": "markdown",
   "metadata": {
    "id": "JabmRdNiWUhc"
   },
   "source": [
    "## Create pipeline and define parameters for GridSearch"
   ]
  },
  {
   "cell_type": "code",
   "execution_count": 15,
   "metadata": {
    "id": "azZvCgLsWVaZ"
   },
   "outputs": [],
   "source": [
    "text_clf = Pipeline([('vect', CountVectorizer()),\n",
    "                     ('tfidf', TfidfTransformer()),\n",
    "                     ('clf', MultinomialNB())])\n",
    "\n",
    "tuned_parameters = {\n",
    "    'vect__ngram_range': [(1, 1), (1, 2), (2, 2)],\n",
    "    'tfidf__use_idf': (True, False),\n",
    "    'tfidf__norm': ('l1', 'l2'),\n",
    "    'clf__alpha': [1, 1e-1, 1e-2]\n",
    "}"
   ]
  },
  {
   "cell_type": "markdown",
   "metadata": {
    "id": "-0xeqceWWbz_"
   },
   "source": [
    "## Split data into test and train"
   ]
  },
  {
   "cell_type": "code",
   "execution_count": 19,
   "metadata": {
    "id": "uznVuAUUWbPM"
   },
   "outputs": [],
   "source": [
    "# split data into train and test with split as 0.2 \n",
    "X = data.processed\n",
    "y = data.labels\n",
    "\n",
    "x_train, x_test, y_train, y_test = train_test_split(X, y, test_size = 0.2, random_state = 42)\n"
   ]
  },
  {
   "cell_type": "markdown",
   "metadata": {
    "id": "Y1ZgcaM8WfRB"
   },
   "source": [
    "## Perform classification (using GridSearch)"
   ]
  },
  {
   "cell_type": "code",
   "execution_count": 24,
   "metadata": {
    "id": "AUwwb2IWWhmH"
   },
   "outputs": [
    {
     "data": {
      "text/plain": [
       "GridSearchCV(cv=10, error_score='raise',\n",
       "       estimator=Pipeline(memory=None,\n",
       "     steps=[('vect', CountVectorizer(analyzer='word', binary=False, decode_error='strict',\n",
       "        dtype=<class 'numpy.int64'>, encoding='utf-8', input='content',\n",
       "        lowercase=True, max_df=1.0, max_features=None, min_df=1,\n",
       "        ngram_range=(1, 1), preprocessor=None, stop_words=None,\n",
       "        strip...inear_tf=False, use_idf=True)), ('clf', MultinomialNB(alpha=1.0, class_prior=None, fit_prior=True))]),\n",
       "       fit_params=None, iid=True, n_jobs=-1,\n",
       "       param_grid={'vect__ngram_range': [(1, 1), (1, 2), (2, 2)], 'tfidf__use_idf': (True, False), 'tfidf__norm': ('l1', 'l2'), 'clf__alpha': [1, 0.1, 0.01]},\n",
       "       pre_dispatch='2*n_jobs', refit=True, return_train_score='warn',\n",
       "       scoring=None, verbose=0)"
      ]
     },
     "execution_count": 24,
     "metadata": {},
     "output_type": "execute_result"
    }
   ],
   "source": [
    "# perform GridSearch CV with 10 fold CV using pipeline and tuned_paramters defined above \n",
    "clf = GridSearchCV(text_clf, param_grid = tuned_parameters, cv=10, n_jobs =-1)\n",
    "clf.fit(x_train, y_train)"
   ]
  },
  {
   "cell_type": "markdown",
   "metadata": {
    "id": "CE_mfhiUWyc8"
   },
   "source": [
    "## Classification report "
   ]
  },
  {
   "cell_type": "code",
   "execution_count": 33,
   "metadata": {
    "id": "rqvkzGFRWzIb"
   },
   "outputs": [
    {
     "name": "stdout",
     "output_type": "stream",
     "text": [
      "[0 1 0 0 1 0 0 0 0 0 0 1 0 1 1 0 1 1 0 0 0 0 0 1 1 0 0 0 0 0 0 1 0 1 0 0 0\n",
      " 0 0 0 0 0 0 1 0 0 0 0 1 0 0 0 0 0 1 0 0 2 0 0 1 0 0 0 1 0 0 0 0 1 0 0 0 1\n",
      " 0 0 1 0 0 1 1 0 0 1 0 0 1 1 0 0 1 0 0 0 0 0 0 0 0 0 0 0 0 0 0 2 0 0 0 1 1\n",
      " 1 0 0 0 0 2 0 1 0 0 0 0 0 0 0 0 1 0 0 0 0 0 0 0 0 0 0 0 1 0 1 0 0 0 0 0 1\n",
      " 1 1 0 0 0 0 0 0 0 0 0 2 0 0 1 1 0 0 0 0 0 1 0 0 0 0 0 0 2 0 1 0 0 0 0 0 1\n",
      " 1 1 1 0 0 0 0 1 2 0 0 0 1 1 0 0 0 0 2 0 0 0 0 0 0 0 0 0 1 0 0 1 0 0 1 0 0\n",
      " 1 0 0 0 0 0 0 0 0 0 0 0 0 1 0 1 0 1 0 0 2 0 0 0 0 0 0 0 1 0 1 0 1 1 0 0 0\n",
      " 0 1 1 0 0 0 0 1 1 0 0 1 0 0 0 0 0]\n"
     ]
    }
   ],
   "source": [
    "# print classification report after predicting on test set with best model obtained in GridSearch\n",
    "pred = clf.predict(x_test)\n",
    "print(pred)"
   ]
  },
  {
   "cell_type": "code",
   "execution_count": 34,
   "metadata": {},
   "outputs": [
    {
     "data": {
      "text/plain": [
       "276"
      ]
     },
     "execution_count": 34,
     "metadata": {},
     "output_type": "execute_result"
    }
   ],
   "source": [
    "len(pred)"
   ]
  },
  {
   "cell_type": "markdown",
   "metadata": {
    "id": "shTpptLeW1SF"
   },
   "source": [
    "## Important:"
   ]
  },
  {
   "cell_type": "code",
   "execution_count": 26,
   "metadata": {
    "id": "OdWycpFYW3iD"
   },
   "outputs": [
    {
     "name": "stdout",
     "output_type": "stream",
     "text": [
      "0    947\n",
      "1    352\n",
      "2     81\n",
      "Name: labels, dtype: int64\n"
     ]
    }
   ],
   "source": [
    "counts = data.labels.value_counts()\n",
    "print(counts)"
   ]
  },
  {
   "cell_type": "markdown",
   "metadata": {
    "id": "6l3PcKXfW9LE"
   },
   "source": [
    "We can see above that the class distribution is highly imbalanced, this would not lead to good sampling of the data for the classifier. For your learning, try using [SMOTE](https://imbalanced-learn.readthedocs.io/en/stable/api.html) to oversample the minority classes and then evaluate the performance with Naive Bayes and compare."
   ]
  }
 ],
 "metadata": {
  "colab": {
   "authorship_tag": "ABX9TyMrrP2fw91eCe/rYwptPE8i",
   "collapsed_sections": [],
   "name": "Sentiment Analysis using Naive Bayes.ipynb",
   "provenance": []
  },
  "kernelspec": {
   "display_name": "Python 3",
   "language": "python",
   "name": "python3"
  },
  "language_info": {
   "codemirror_mode": {
    "name": "ipython",
    "version": 3
   },
   "file_extension": ".py",
   "mimetype": "text/x-python",
   "name": "python",
   "nbconvert_exporter": "python",
   "pygments_lexer": "ipython3",
   "version": "3.6.5"
  }
 },
 "nbformat": 4,
 "nbformat_minor": 1
}
